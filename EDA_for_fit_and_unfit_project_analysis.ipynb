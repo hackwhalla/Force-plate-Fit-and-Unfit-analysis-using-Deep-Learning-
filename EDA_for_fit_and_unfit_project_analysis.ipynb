{
  "nbformat": 4,
  "nbformat_minor": 0,
  "metadata": {
    "colab": {
      "provenance": []
    },
    "kernelspec": {
      "name": "python3",
      "display_name": "Python 3"
    },
    "language_info": {
      "name": "python"
    }
  },
  "cells": [
    {
      "cell_type": "code",
      "execution_count": 2,
      "metadata": {
        "id": "afgXHLMWsVoX"
      },
      "outputs": [],
      "source": [
        "import pandas as pd"
      ]
    },
    {
      "cell_type": "code",
      "source": [
        "datag = pd.read_csv('/content/Counter Movement Jump girls.csv')\n",
        "datab = pd.read_csv('/content/Counter Movement Jump.csv')"
      ],
      "metadata": {
        "id": "5d-BayZhsmi8"
      },
      "execution_count": 3,
      "outputs": []
    },
    {
      "cell_type": "code",
      "source": [
        "len(datag.columns)"
      ],
      "metadata": {
        "colab": {
          "base_uri": "https://localhost:8080/"
        },
        "id": "HmwrJWrCs18_",
        "outputId": "4fe7e7f1-5eb2-40d6-9434-bca4078d82c4"
      },
      "execution_count": 16,
      "outputs": [
        {
          "output_type": "execute_result",
          "data": {
            "text/plain": [
              "48"
            ]
          },
          "metadata": {},
          "execution_count": 16
        }
      ]
    },
    {
      "cell_type": "code",
      "source": [
        "len(datab.columns)"
      ],
      "metadata": {
        "colab": {
          "base_uri": "https://localhost:8080/"
        },
        "id": "Qi4S8U2NtL1o",
        "outputId": "0f06f40a-6b69-4ed6-e679-67c6e49a4aed"
      },
      "execution_count": 9,
      "outputs": [
        {
          "output_type": "execute_result",
          "data": {
            "text/plain": [
              "54"
            ]
          },
          "metadata": {},
          "execution_count": 9
        }
      ]
    },
    {
      "cell_type": "code",
      "source": [
        "feature_list = []\n",
        "counter = 0\n",
        "for i in datab.columns: #datab\n",
        "  for j in datag.columns: #datag\n",
        "    if i == j:\n",
        "      feature_list.append(i)\n",
        "      print(i)\n",
        "      print(counter)\n",
        "      counter +=1"
      ],
      "metadata": {
        "colab": {
          "base_uri": "https://localhost:8080/"
        },
        "collapsed": true,
        "id": "vkhokGMytPMF",
        "outputId": "3ed6e1ec-1b6a-40cd-a4ed-ddf99eef2dc0"
      },
      "execution_count": 17,
      "outputs": [
        {
          "output_type": "stream",
          "name": "stdout",
          "text": [
            "Lower Extremities\n",
            "0\n",
            "Upper Extremities\n",
            "1\n",
            "Subject - Sex\n",
            "2\n",
            "General Parameters --- Jump Height from Take Off V [m]\n",
            "3\n",
            "General Parameters --- Jump Height from Flight T [m]\n",
            "4\n",
            "General Parameters --- Start interval relative F [%BW]\n",
            "5\n",
            "General Parameters --- Start interval relative P [W/kg]\n",
            "6\n",
            "General Parameters --- Start interval A [m/s^2]\n",
            "7\n",
            "General Parameters --- Start interval V [m/s]\n",
            "8\n",
            "General Parameters --- Relative maximal F [%BW]\n",
            "9\n",
            "General Parameters --- Absolute maximal F [N]\n",
            "10\n",
            "General Parameters --- Relative maximal F during Counter Movement [%BW]\n",
            "11\n",
            "General Parameters --- Relative maximal F during Push Off [%BW]\n",
            "12\n",
            "General Parameters --- Relative maximal F in the 1st half of Push Off [%BW]\n",
            "13\n",
            "General Parameters --- Relative maximal F in the 2nd half of Push Off [%BW]\n",
            "14\n",
            "General Parameters --- Relative minimal F [%BW]\n",
            "15\n",
            "General Parameters --- Absolute maximal F during Landing [N]\n",
            "16\n",
            "General Parameters --- Relative maximal F during Landing [%BW]\n",
            "17\n",
            "General Parameters --- Relative maximal P [W/kg]\n",
            "18\n",
            "General Parameters --- Absolute maximal P [W]\n",
            "19\n",
            "General Parameters --- Relative E [J/kg]\n",
            "20\n",
            "General Parameters --- A [m/s^2]\n",
            "21\n",
            "General Parameters --- A in the 1st half of Push Off [m/s^2]\n",
            "22\n",
            "General Parameters --- A in the 2nd half of Push Off [m/s^2]\n",
            "23\n",
            "General Parameters --- Vertical Take Off V [m/s]\n",
            "24\n",
            "General Parameters --- Maximal V [m/s]\n",
            "25\n",
            "General Parameters --- Average P [W]\n",
            "26\n",
            "General Parameters --- Relative average P [W/kg]\n",
            "27\n",
            "General Parameters --- Average F [N]\n",
            "28\n",
            "General Parameters --- Average V [m/s]\n",
            "29\n",
            "Time Parameters --- Jump T [s]\n",
            "30\n",
            "Time Parameters --- Counter Movement T [s]\n",
            "31\n",
            "Time Parameters --- Push Off T [s]\n",
            "32\n",
            "Time Parameters --- Ratio between Counter Movement and Push Off T [%]\n",
            "33\n",
            "Time Parameters --- Flight T [s]\n",
            "34\n",
            "Force Impulse Parameters --- Push Off FI [Ns]\n",
            "35\n",
            "Force Impulse Parameters --- Negative FI [Ns]\n",
            "36\n",
            "Force Impulse Parameters --- Positive FI [Ns]\n",
            "37\n",
            "P3 --- F at Free-fall [N/kg]\n",
            "38\n",
            "P3 --- F at Peak Eccentric - Standard [N/kg]\n",
            "39\n",
            "P3 --- F at Peak Eccentric - P3 [N/kg]\n",
            "40\n",
            "P3 --- F at Begin Concentric - Standard [N/kg]\n",
            "41\n",
            "P3 --- F at Begin Concentric - P3 [N/kg]\n",
            "42\n",
            "P3 --- F at Peak Concentric [N/kg]\n",
            "43\n",
            "P3 --- Total FI [Ns/kg]\n",
            "44\n",
            "P3 --- Total Movement T [s]\n",
            "45\n",
            "P3 --- Active Movement T [s]\n",
            "46\n"
          ]
        }
      ]
    },
    {
      "cell_type": "code",
      "source": [
        "len(feature_list)"
      ],
      "metadata": {
        "colab": {
          "base_uri": "https://localhost:8080/"
        },
        "id": "hnYVYPxbvGru",
        "outputId": "271c4b95-8006-498f-c3bf-f29316f3c55c"
      },
      "execution_count": 20,
      "outputs": [
        {
          "output_type": "execute_result",
          "data": {
            "text/plain": [
              "47"
            ]
          },
          "metadata": {},
          "execution_count": 20
        }
      ]
    },
    {
      "cell_type": "code",
      "source": [
        "feature_list"
      ],
      "metadata": {
        "colab": {
          "base_uri": "https://localhost:8080/"
        },
        "collapsed": true,
        "id": "5e5cdMGHvBhN",
        "outputId": "4c768b36-ae21-4279-d76b-2d457c8cab6e"
      },
      "execution_count": 19,
      "outputs": [
        {
          "output_type": "execute_result",
          "data": {
            "text/plain": [
              "['Lower Extremities',\n",
              " 'Upper Extremities',\n",
              " 'Subject - Sex',\n",
              " 'General Parameters --- Jump Height from Take Off V [m]',\n",
              " 'General Parameters --- Jump Height from Flight T [m]',\n",
              " 'General Parameters --- Start interval relative F [%BW]',\n",
              " 'General Parameters --- Start interval relative P [W/kg]',\n",
              " 'General Parameters --- Start interval A [m/s^2]',\n",
              " 'General Parameters --- Start interval V [m/s]',\n",
              " 'General Parameters --- Relative maximal F [%BW]',\n",
              " 'General Parameters --- Absolute maximal F [N]',\n",
              " 'General Parameters --- Relative maximal F during Counter Movement [%BW]',\n",
              " 'General Parameters --- Relative maximal F during Push Off [%BW]',\n",
              " 'General Parameters --- Relative maximal F in the 1st half of Push Off [%BW]',\n",
              " 'General Parameters --- Relative maximal F in the 2nd half of Push Off [%BW]',\n",
              " 'General Parameters --- Relative minimal F [%BW]',\n",
              " 'General Parameters --- Absolute maximal F during Landing [N]',\n",
              " 'General Parameters --- Relative maximal F during Landing [%BW]',\n",
              " 'General Parameters --- Relative maximal P [W/kg]',\n",
              " 'General Parameters --- Absolute maximal P [W]',\n",
              " 'General Parameters --- Relative E [J/kg]',\n",
              " 'General Parameters --- A [m/s^2]',\n",
              " 'General Parameters --- A in the 1st half of Push Off [m/s^2]',\n",
              " 'General Parameters --- A in the 2nd half of Push Off [m/s^2]',\n",
              " 'General Parameters --- Vertical Take Off V [m/s]',\n",
              " 'General Parameters --- Maximal V [m/s]',\n",
              " 'General Parameters --- Average P [W]',\n",
              " 'General Parameters --- Relative average P [W/kg]',\n",
              " 'General Parameters --- Average F [N]',\n",
              " 'General Parameters --- Average V [m/s]',\n",
              " 'Time Parameters --- Jump T [s]',\n",
              " 'Time Parameters --- Counter Movement T [s]',\n",
              " 'Time Parameters --- Push Off T [s]',\n",
              " 'Time Parameters --- Ratio between Counter Movement and Push Off T [%]',\n",
              " 'Time Parameters --- Flight T [s]',\n",
              " 'Force Impulse Parameters --- Push Off FI [Ns]',\n",
              " 'Force Impulse Parameters --- Negative FI [Ns]',\n",
              " 'Force Impulse Parameters --- Positive FI [Ns]',\n",
              " 'P3 --- F at Free-fall [N/kg]',\n",
              " 'P3 --- F at Peak Eccentric - Standard [N/kg]',\n",
              " 'P3 --- F at Peak Eccentric - P3 [N/kg]',\n",
              " 'P3 --- F at Begin Concentric - Standard [N/kg]',\n",
              " 'P3 --- F at Begin Concentric - P3 [N/kg]',\n",
              " 'P3 --- F at Peak Concentric [N/kg]',\n",
              " 'P3 --- Total FI [Ns/kg]',\n",
              " 'P3 --- Total Movement T [s]',\n",
              " 'P3 --- Active Movement T [s]']"
            ]
          },
          "metadata": {},
          "execution_count": 19
        }
      ]
    },
    {
      "cell_type": "code",
      "source": [
        "final_datag = datag[feature_list]\n",
        "final_datab = datab[feature_list]"
      ],
      "metadata": {
        "id": "_McpFloLvLHL"
      },
      "execution_count": 21,
      "outputs": []
    },
    {
      "cell_type": "code",
      "source": [
        "len(final_datag.columns)"
      ],
      "metadata": {
        "colab": {
          "base_uri": "https://localhost:8080/"
        },
        "id": "gLPKzvEFvYKc",
        "outputId": "784e4fce-978a-4ce2-b5e1-c9bc87c16b16"
      },
      "execution_count": 22,
      "outputs": [
        {
          "output_type": "execute_result",
          "data": {
            "text/plain": [
              "47"
            ]
          },
          "metadata": {},
          "execution_count": 22
        }
      ]
    },
    {
      "cell_type": "code",
      "source": [
        "len(final_datab.columns)"
      ],
      "metadata": {
        "colab": {
          "base_uri": "https://localhost:8080/"
        },
        "id": "7kNchcsSvbHi",
        "outputId": "733962f0-d6a5-42f1-8fab-255a739d1c0d"
      },
      "execution_count": 23,
      "outputs": [
        {
          "output_type": "execute_result",
          "data": {
            "text/plain": [
              "47"
            ]
          },
          "metadata": {},
          "execution_count": 23
        }
      ]
    },
    {
      "cell_type": "code",
      "source": [
        "final_datab['Physique-Condition'] = 'Fit'"
      ],
      "metadata": {
        "colab": {
          "base_uri": "https://localhost:8080/"
        },
        "id": "yaobhDH9viTi",
        "outputId": "47df2f67-1d23-4722-ba9b-a7c52adebfd4"
      },
      "execution_count": 27,
      "outputs": [
        {
          "output_type": "stream",
          "name": "stderr",
          "text": [
            "/tmp/ipython-input-27-3432536749.py:1: SettingWithCopyWarning: \n",
            "A value is trying to be set on a copy of a slice from a DataFrame.\n",
            "Try using .loc[row_indexer,col_indexer] = value instead\n",
            "\n",
            "See the caveats in the documentation: https://pandas.pydata.org/pandas-docs/stable/user_guide/indexing.html#returning-a-view-versus-a-copy\n",
            "  final_datab['Physique-Condition'] = 'Fit'\n"
          ]
        }
      ]
    },
    {
      "cell_type": "code",
      "source": [
        "final_datag['Physique-Condition'] = 'Unfit'"
      ],
      "metadata": {
        "id": "-yXrfMfwwZcx"
      },
      "execution_count": 29,
      "outputs": []
    },
    {
      "cell_type": "code",
      "source": [
        "Final_data_fit_unfit = pd.concat([final_datab,final_datag])"
      ],
      "metadata": {
        "id": "PaiAJQ5Mwj0B"
      },
      "execution_count": 31,
      "outputs": []
    },
    {
      "cell_type": "code",
      "source": [
        "Final_data_fit_unfit.to_csv('Final_data_fit_unfit.csv')"
      ],
      "metadata": {
        "id": "LPeBrRrEw2kS"
      },
      "execution_count": 33,
      "outputs": []
    },
    {
      "cell_type": "code",
      "source": [],
      "metadata": {
        "id": "_9B63oaTxVgV"
      },
      "execution_count": null,
      "outputs": []
    },
    {
      "cell_type": "code",
      "source": [],
      "metadata": {
        "id": "DRM5sC7hxVMo"
      },
      "execution_count": null,
      "outputs": []
    }
  ]
}